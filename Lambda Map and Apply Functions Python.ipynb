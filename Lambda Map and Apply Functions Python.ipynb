{
 "cells": [
  {
   "cell_type": "code",
   "execution_count": 1,
   "metadata": {},
   "outputs": [],
   "source": [
    "import numpy as np\n",
    "import pandas as pd\n",
    "import time"
   ]
  },
  {
   "cell_type": "code",
   "execution_count": 2,
   "metadata": {},
   "outputs": [],
   "source": [
    "# Lambda Function\n",
    "# Anonymous Function\n",
    "# Simplier to understand and cleaner\n",
    "# Generally used with Apply and map functions \n",
    "\n",
    "# Steps to define a lambda function \n",
    "# Varibale to assign the function value(similar to function name)\n",
    "# Lambda Keyword\n",
    "# Input Parameters\n",
    "# Function body"
   ]
  },
  {
   "cell_type": "code",
   "execution_count": 150,
   "metadata": {},
   "outputs": [
    {
     "name": "stdout",
     "output_type": "stream",
     "text": [
      "4\n",
      "6.25\n"
     ]
    }
   ],
   "source": [
    "# Example 1 - Calculate square of a number\n",
    "\n",
    "# Defining a function\n",
    "lambda_function = lambda x:x**2\n",
    "#Calling the function\n",
    "\n",
    "print(lambda_function(2))\n",
    "print(lambda_function(2.5))"
   ]
  },
  {
   "cell_type": "code",
   "execution_count": 4,
   "metadata": {},
   "outputs": [
    {
     "name": "stdout",
     "output_type": "stream",
     "text": [
      "8\n",
      "15.625\n"
     ]
    }
   ],
   "source": [
    "# Example 2 - Multiple parameters \n",
    "# Finding the result of x raise to power y\n",
    "\n",
    "# Defining a function\n",
    "lambda_function = lambda x,y:x**y\n",
    "#Calling the function\n",
    "\n",
    "print(lambda_function(2,3))\n",
    "print(lambda_function(2.5,3))"
   ]
  },
  {
   "cell_type": "code",
   "execution_count": 5,
   "metadata": {},
   "outputs": [
    {
     "name": "stdout",
     "output_type": "stream",
     "text": [
      "8\n",
      "15.625\n"
     ]
    }
   ],
   "source": [
    "#Example 3\n",
    "# Use another function inside apply\n",
    "def func(x,y):\n",
    "    return x**y\n",
    "\n",
    "lambda_function = lambda x,y:func(x,y)\n",
    "print(lambda_function(2,3))\n",
    "print(lambda_function(2.5,3))"
   ]
  },
  {
   "cell_type": "code",
   "execution_count": 12,
   "metadata": {},
   "outputs": [
    {
     "ename": "TypeError",
     "evalue": "can't multiply sequence by non-int of type 'list'",
     "output_type": "error",
     "traceback": [
      "\u001b[1;31m---------------------------------------------------------------------------\u001b[0m",
      "\u001b[1;31mTypeError\u001b[0m                                 Traceback (most recent call last)",
      "\u001b[1;32m<ipython-input-12-d4a25e0d7121>\u001b[0m in \u001b[0;36m<module>\u001b[1;34m\u001b[0m\n\u001b[0;32m      5\u001b[0m \u001b[0mlist1\u001b[0m \u001b[1;33m=\u001b[0m \u001b[1;33m[\u001b[0m\u001b[1;36m1\u001b[0m\u001b[1;33m,\u001b[0m\u001b[1;36m2\u001b[0m\u001b[1;33m,\u001b[0m\u001b[1;36m3\u001b[0m\u001b[1;33m,\u001b[0m\u001b[1;36m4\u001b[0m\u001b[1;33m]\u001b[0m\u001b[1;33m\u001b[0m\u001b[1;33m\u001b[0m\u001b[0m\n\u001b[0;32m      6\u001b[0m \u001b[0mlist2\u001b[0m \u001b[1;33m=\u001b[0m \u001b[1;33m[\u001b[0m\u001b[1;36m1\u001b[0m\u001b[1;33m,\u001b[0m\u001b[1;36m2\u001b[0m\u001b[1;33m,\u001b[0m\u001b[1;36m3\u001b[0m\u001b[1;33m,\u001b[0m\u001b[1;36m4\u001b[0m\u001b[1;33m]\u001b[0m\u001b[1;33m\u001b[0m\u001b[1;33m\u001b[0m\u001b[0m\n\u001b[1;32m----> 7\u001b[1;33m \u001b[0mlist3\u001b[0m \u001b[1;33m=\u001b[0m \u001b[0mlist1\u001b[0m\u001b[1;33m*\u001b[0m\u001b[0mlist2\u001b[0m\u001b[1;33m\u001b[0m\u001b[1;33m\u001b[0m\u001b[0m\n\u001b[0m\u001b[0;32m      8\u001b[0m \u001b[0msqd_list1\u001b[0m \u001b[1;33m=\u001b[0m \u001b[0mlist1\u001b[0m\u001b[1;33m**\u001b[0m\u001b[1;36m2\u001b[0m\u001b[1;33m\u001b[0m\u001b[1;33m\u001b[0m\u001b[0m\n",
      "\u001b[1;31mTypeError\u001b[0m: can't multiply sequence by non-int of type 'list'"
     ]
    }
   ],
   "source": [
    "# Map functions.. \n",
    "# Used in many cases.. Most basic usecase is to iterate on basic datasets like lists\n",
    "\n",
    "# Consider a list list_val with length of 4, you want to find the square of each element\n",
    "list1 = [1,2,3,4]\n",
    "sqd_list1 = list1**2\n",
    "# This will throw an error.. You cannot do a vectorised operation on the list"
   ]
  },
  {
   "cell_type": "code",
   "execution_count": 35,
   "metadata": {},
   "outputs": [
    {
     "name": "stdout",
     "output_type": "stream",
     "text": [
      "[1, 4, 9, 16]\n"
     ]
    }
   ],
   "source": [
    "# Alternate ways\n",
    "# For loop -  Go through each element and find its square\n",
    "list1 = [1,2,3,4]\n",
    "list2 = []\n",
    "for l in list1:\n",
    "    list2.append(l**2)\n",
    "print(list2)\n",
    "# Computationally expensive and not that clean"
   ]
  },
  {
   "cell_type": "code",
   "execution_count": 126,
   "metadata": {},
   "outputs": [
    {
     "name": "stdout",
     "output_type": "stream",
     "text": [
      "<map object at 0x000002CEBDA54148>\n",
      "[1, 4, 9, 16]\n"
     ]
    }
   ],
   "source": [
    "# Using Map Function\n",
    "#Example - 1\n",
    "\n",
    "# As the name suggests, it will automatically map a function to each element of a data structure, in this case a list\n",
    "# Structure of map function -  map(function to map to a datastructure, datastructure)\n",
    "# For function, we will try and use lambda function everywhere\n",
    "\n",
    "list_val =[1,2,3,4] \n",
    "sqd_list_val = map(lambda x:x**2,list_val)\n",
    "print(sqd_list_val)\n",
    "print(list(sqd_list_val)) \n",
    "\n",
    "# The lambda function, we are passing one single parameter and getting its square \n",
    "# We are getting values of x from the list in the second parameter\n",
    "# What map returns is a map object and it can be type casted to list"
   ]
  },
  {
   "cell_type": "code",
   "execution_count": 7,
   "metadata": {},
   "outputs": [
    {
     "name": "stdout",
     "output_type": "stream",
     "text": [
      "[6, 8, 10, 12]\n",
      "[5, 12, 21, 32]\n",
      "[1, 2, 3, 4, 5, 6, 7, 8]\n"
     ]
    },
    {
     "ename": "TypeError",
     "evalue": "can't multiply sequence by non-int of type 'list'",
     "output_type": "error",
     "traceback": [
      "\u001b[1;31m---------------------------------------------------------------------------\u001b[0m",
      "\u001b[1;31mTypeError\u001b[0m                                 Traceback (most recent call last)",
      "\u001b[1;32m<ipython-input-7-16d7a7edfdd7>\u001b[0m in \u001b[0;36m<module>\u001b[1;34m\u001b[0m\n\u001b[0;32m     20\u001b[0m \u001b[1;33m\u001b[0m\u001b[0m\n\u001b[0;32m     21\u001b[0m \u001b[0mprint\u001b[0m\u001b[1;33m(\u001b[0m\u001b[0mlist1\u001b[0m\u001b[1;33m+\u001b[0m\u001b[0mlist2\u001b[0m\u001b[1;33m)\u001b[0m \u001b[1;31m# extends the list instead of index wise addition\u001b[0m\u001b[1;33m\u001b[0m\u001b[1;33m\u001b[0m\u001b[0m\n\u001b[1;32m---> 22\u001b[1;33m \u001b[0mprint\u001b[0m\u001b[1;33m(\u001b[0m\u001b[0mlist1\u001b[0m\u001b[1;33m*\u001b[0m\u001b[0mlist2\u001b[0m\u001b[1;33m)\u001b[0m \u001b[1;31m# Throws an error\u001b[0m\u001b[1;33m\u001b[0m\u001b[1;33m\u001b[0m\u001b[0m\n\u001b[0m",
      "\u001b[1;31mTypeError\u001b[0m: can't multiply sequence by non-int of type 'list'"
     ]
    }
   ],
   "source": [
    "# Map Function Example 2 \n",
    "# a third list with sum of corresponding element of 2 list\n",
    "# Since we have to sum up elements from 2 list, we will need 2 parameters, 1 for each list element\n",
    "\n",
    "# x - element for list1\n",
    "# y - element for list2\n",
    "\n",
    "list1 = [1,2,3,4]\n",
    "list2 = [5,6,7,8]\n",
    "\n",
    "# Index wise elements addition\n",
    "list3 = list(map(lambda x,y:x+y, list1,list2))\n",
    "print(list3)\n",
    "\n",
    "# Index wise elements Multiplication\n",
    "list3 = list(map(lambda x,y:x*y, list1,list2))\n",
    "print(list3)\n",
    "\n",
    "\n",
    "\n",
    "print(list1+list2) # extends the list instead of index wise addition\n",
    "print(list1*list2) # Throws an error"
   ]
  },
  {
   "cell_type": "code",
   "execution_count": 9,
   "metadata": {},
   "outputs": [
    {
     "name": "stdout",
     "output_type": "stream",
     "text": [
      "     Target\n",
      "0       Yes\n",
      "1        No\n",
      "2  Not Sure\n",
      "(3, 1)\n"
     ]
    }
   ],
   "source": [
    "# Using DataFrames for Map and Apply\n",
    "# Example 1 \n",
    "\n",
    "df = pd.DataFrame([['Yes'],['No'],['Not Sure']],columns  = ['Target'])\n",
    "print(df)\n",
    "print(df.shape)"
   ]
  },
  {
   "cell_type": "code",
   "execution_count": 10,
   "metadata": {},
   "outputs": [
    {
     "name": "stdout",
     "output_type": "stream",
     "text": [
      "     Target  converted\n",
      "0       Yes        1.0\n",
      "1        No        0.0\n",
      "2  Not Sure        NaN\n"
     ]
    }
   ],
   "source": [
    "# Map to convert Yes to 1 and No to zero\n",
    "# Map function can be used as a dictionary here.. Just pass a dictionary and it will be converted\n",
    "# Map can only be applied to 1 column at a time so you need to specify the column name\n",
    "\n",
    "\n",
    "df['converted'] = df['Target'].map({'Yes':1,'No':0})\n",
    "print(df)"
   ]
  },
  {
   "cell_type": "code",
   "execution_count": 11,
   "metadata": {},
   "outputs": [
    {
     "name": "stdout",
     "output_type": "stream",
     "text": [
      "     Target  converted converted2\n",
      "0       Yes        1.0          1\n",
      "1        No        0.0          0\n",
      "2  Not Sure        NaN   Not Sure\n"
     ]
    }
   ],
   "source": [
    "# Alternate is replace function and it can be used for entire df also\n",
    "df['converted2'] = df['Target'].replace({'Yes':1,'No':0})\n",
    "print(df)"
   ]
  },
  {
   "cell_type": "code",
   "execution_count": 12,
   "metadata": {},
   "outputs": [
    {
     "name": "stdout",
     "output_type": "stream",
     "text": [
      "  num\n",
      "0   2\n",
      "1   3\n",
      "2   4\n"
     ]
    }
   ],
   "source": [
    "# Apply functions in Pandas\n",
    "\n",
    "# Applcable to a single column/ entire df\n",
    "\n",
    "# Vectorised operations can be done on  a dataframe.. then why do we need apply to iterate through element??\n",
    "\n",
    "# Example\n",
    "\n",
    "df = pd.DataFrame([['2'],['3'],['4']],columns  = ['num'])\n",
    "print(df)"
   ]
  },
  {
   "cell_type": "code",
   "execution_count": 13,
   "metadata": {},
   "outputs": [
    {
     "name": "stdout",
     "output_type": "stream",
     "text": [
      "  num  num_sqd\n",
      "0   2        4\n",
      "1   3        9\n",
      "2   4       16\n",
      "  num  num_sqd  num_sqd2\n",
      "0   2        4         4\n",
      "1   3        9         9\n",
      "2   4       16        16\n"
     ]
    }
   ],
   "source": [
    "# Square of the columns\n",
    "# method 1 - vectorised \n",
    "df['num_sqd'] = df['num'].astype(int)**2\n",
    "print(df)\n",
    "\n",
    "# method 2 - apply function\n",
    "\n",
    "# Works similar to map function -  maps a function to each and every element of a df column\n",
    "\n",
    "df['num_sqd2'] = df['num'].apply(lambda x : int(x)**2)\n",
    "print(df)"
   ]
  },
  {
   "cell_type": "code",
   "execution_count": 14,
   "metadata": {},
   "outputs": [
    {
     "name": "stdout",
     "output_type": "stream",
     "text": [
      "  num  num_sqd  num_sqd2  num_sqd3\n",
      "0   2        4         4        64\n",
      "1   3        9         9       729\n",
      "2   4       16        16      4096\n",
      "  num  num_sqd  num_sqd2  num_sqd3  num_sqd4\n",
      "0   2        4         4        64        68\n",
      "1   3        9         9       729       738\n",
      "2   4       16        16      4096      4112\n"
     ]
    }
   ],
   "source": [
    "# If you do not specify a column just before the apply function, it will pass in the entire dataframe\n",
    "# Then x parameter in the lambda function will become an array and you need to specify the index for columns\n",
    "\n",
    "# Access one column    \n",
    "df['num_sqd3'] = df.apply(lambda x:int(x[2])**3,axis = 1)\n",
    "print(df)\n",
    "\n",
    "# Access multiple columns\n",
    "df['num_sqd4'] = df.apply(lambda x:int(x[2]) + x[3],axis = 1)\n",
    "print(df)\n",
    "\n",
    "# But all this can be done directly using vectorised form also, special need for apply??"
   ]
  },
  {
   "cell_type": "code",
   "execution_count": 15,
   "metadata": {},
   "outputs": [
    {
     "name": "stdout",
     "output_type": "stream",
     "text": [
      "  num  num_sqd  num_sqd2  num_sqd3  num_sqd4\n",
      "0   2        4         4        64        68\n",
      "1   3        9         9       729       738\n",
      "2   4       16        16      4096      4112\n"
     ]
    }
   ],
   "source": [
    "# Above examples using vectorised form\n",
    "df['num_sqd3'] = df['num_sqd2']**3\n",
    "df['num_sqd4'] = df['num_sqd2'] + df['num_sqd3']\n",
    "print(df)"
   ]
  },
  {
   "cell_type": "code",
   "execution_count": 16,
   "metadata": {},
   "outputs": [
    {
     "name": "stdout",
     "output_type": "stream",
     "text": [
      "          full_name\n",
      "0         Amit Soni\n",
      "1    Shrey Pachisia\n",
      "2  Prakarsh Chauhan\n",
      "Amit\n",
      "Soni\n"
     ]
    },
    {
     "ename": "AttributeError",
     "evalue": "'Series' object has no attribute 'split'",
     "output_type": "error",
     "traceback": [
      "\u001b[1;31m---------------------------------------------------------------------------\u001b[0m",
      "\u001b[1;31mAttributeError\u001b[0m                            Traceback (most recent call last)",
      "\u001b[1;32m<ipython-input-16-4f6ab4257e2f>\u001b[0m in \u001b[0;36m<module>\u001b[1;34m\u001b[0m\n\u001b[0;32m     18\u001b[0m \u001b[1;31m# Can we do it directly??\u001b[0m\u001b[1;33m\u001b[0m\u001b[1;33m\u001b[0m\u001b[1;33m\u001b[0m\u001b[0m\n\u001b[0;32m     19\u001b[0m \u001b[1;33m\u001b[0m\u001b[0m\n\u001b[1;32m---> 20\u001b[1;33m \u001b[0mdf\u001b[0m\u001b[1;33m[\u001b[0m\u001b[1;34m'name'\u001b[0m\u001b[1;33m]\u001b[0m \u001b[1;33m=\u001b[0m \u001b[0mdf\u001b[0m\u001b[1;33m[\u001b[0m\u001b[1;34m'full_name'\u001b[0m\u001b[1;33m]\u001b[0m\u001b[1;33m.\u001b[0m\u001b[0msplit\u001b[0m\u001b[1;33m(\u001b[0m\u001b[1;34m\" \"\u001b[0m\u001b[1;33m)\u001b[0m\u001b[1;33m[\u001b[0m\u001b[1;36m0\u001b[0m\u001b[1;33m]\u001b[0m\u001b[1;33m\u001b[0m\u001b[1;33m\u001b[0m\u001b[0m\n\u001b[0m\u001b[0;32m     21\u001b[0m \u001b[1;31m# It will throw an error because df does not have any split function.. split only applies to string\u001b[0m\u001b[1;33m\u001b[0m\u001b[1;33m\u001b[0m\u001b[1;33m\u001b[0m\u001b[0m\n",
      "\u001b[1;32m~\\AppData\\Local\\Continuum\\anaconda3\\lib\\site-packages\\pandas\\core\\generic.py\u001b[0m in \u001b[0;36m__getattr__\u001b[1;34m(self, name)\u001b[0m\n\u001b[0;32m   5177\u001b[0m             \u001b[1;32mif\u001b[0m \u001b[0mself\u001b[0m\u001b[1;33m.\u001b[0m\u001b[0m_info_axis\u001b[0m\u001b[1;33m.\u001b[0m\u001b[0m_can_hold_identifiers_and_holds_name\u001b[0m\u001b[1;33m(\u001b[0m\u001b[0mname\u001b[0m\u001b[1;33m)\u001b[0m\u001b[1;33m:\u001b[0m\u001b[1;33m\u001b[0m\u001b[1;33m\u001b[0m\u001b[0m\n\u001b[0;32m   5178\u001b[0m                 \u001b[1;32mreturn\u001b[0m \u001b[0mself\u001b[0m\u001b[1;33m[\u001b[0m\u001b[0mname\u001b[0m\u001b[1;33m]\u001b[0m\u001b[1;33m\u001b[0m\u001b[1;33m\u001b[0m\u001b[0m\n\u001b[1;32m-> 5179\u001b[1;33m             \u001b[1;32mreturn\u001b[0m \u001b[0mobject\u001b[0m\u001b[1;33m.\u001b[0m\u001b[0m__getattribute__\u001b[0m\u001b[1;33m(\u001b[0m\u001b[0mself\u001b[0m\u001b[1;33m,\u001b[0m \u001b[0mname\u001b[0m\u001b[1;33m)\u001b[0m\u001b[1;33m\u001b[0m\u001b[1;33m\u001b[0m\u001b[0m\n\u001b[0m\u001b[0;32m   5180\u001b[0m \u001b[1;33m\u001b[0m\u001b[0m\n\u001b[0;32m   5181\u001b[0m     \u001b[1;32mdef\u001b[0m \u001b[0m__setattr__\u001b[0m\u001b[1;33m(\u001b[0m\u001b[0mself\u001b[0m\u001b[1;33m,\u001b[0m \u001b[0mname\u001b[0m\u001b[1;33m,\u001b[0m \u001b[0mvalue\u001b[0m\u001b[1;33m)\u001b[0m\u001b[1;33m:\u001b[0m\u001b[1;33m\u001b[0m\u001b[1;33m\u001b[0m\u001b[0m\n",
      "\u001b[1;31mAttributeError\u001b[0m: 'Series' object has no attribute 'split'"
     ]
    }
   ],
   "source": [
    "# Special need for apply\n",
    "\n",
    "# If we have data types like list or string in a column(Iterable data types), direct vectorisation will not work\n",
    "\n",
    "# Lets have an example dataset\n",
    "df = pd.DataFrame([['Amit Soni'],['Shrey Pachisia'],['Prakarsh Chauhan']],columns  = ['full_name'])\n",
    "print(df)\n",
    "\n",
    "# Task is to extract the names and surnames in another column\n",
    "\n",
    "str1 = 'Amit Soni'\n",
    "first_name = str1.split(\" \")[0]\n",
    "last_name = str1.split(\" \")[1]\n",
    "print(first_name)\n",
    "print(last_name)\n",
    "\n",
    "\n",
    "# Can we do it directly??\n",
    "\n",
    "df['name'] = df['full_name'].split(\" \")[0]\n",
    "# It will throw an error because df does not have any split function.. split only applies to string"
   ]
  },
  {
   "cell_type": "code",
   "execution_count": 17,
   "metadata": {},
   "outputs": [
    {
     "name": "stdout",
     "output_type": "stream",
     "text": [
      "          full_name first_name last_name\n",
      "0         Amit Soni       Amit      Soni\n",
      "1    Shrey Pachisia      Shrey  Pachisia\n",
      "2  Prakarsh Chauhan   Prakarsh   Chauhan\n"
     ]
    }
   ],
   "source": [
    "# This is where we need apply functions.. we will have to apply split to every entry to the column\n",
    "df = pd.DataFrame([['Amit Soni'],['Shrey Pachisia'],['Prakarsh Chauhan']],columns  = ['full_name'])\n",
    "\n",
    "\n",
    "df['first_name'] = df['full_name'].apply(lambda x:x.split(\" \")[0])\n",
    "df['last_name'] = df['full_name'].apply(lambda x:x.split(\" \")[1])\n",
    "print(df)"
   ]
  },
  {
   "cell_type": "code",
   "execution_count": 18,
   "metadata": {},
   "outputs": [
    {
     "name": "stdout",
     "output_type": "stream",
     "text": [
      "          list1         list2\n",
      "0  [1, 2, 3, 4]  [5, 6, 7, 8]\n",
      "1  [2, 3, 4, 5]  [6, 7, 8, 9]\n",
      "          list1         list2  sum_list\n",
      "0  [1, 2, 3, 4]  [5, 6, 7, 8]         8\n",
      "1  [2, 3, 4, 5]  [6, 7, 8, 9]        10\n"
     ]
    }
   ],
   "source": [
    "# Example 2 - With lists\n",
    "\n",
    "df = pd.DataFrame([[[1,2,3,4],[5,6,7,8]],[[2,3,4,5],[6,7,8,9]]],columns  = ['list1','list2'])\n",
    "print(df)\n",
    "\n",
    "# Job is to write a function which creates a column with the sum of 2nd element of both lists in list1 and list2\n",
    "# Since we will have to use 2 columns of df in apply, we will not specify any column in apply\n",
    "\n",
    "df['sum_list'] = df.apply(lambda x: x[0][1]+x[1][1],axis = 1)\n",
    "print(df)"
   ]
  },
  {
   "cell_type": "code",
   "execution_count": 33,
   "metadata": {},
   "outputs": [
    {
     "name": "stdout",
     "output_type": "stream",
     "text": [
      "   Num1  Num2\n",
      "0   993   900\n",
      "1   689   575\n",
      "2   355   968\n",
      "3   549   599\n",
      "4   245   475\n",
      "(670464, 2)\n"
     ]
    }
   ],
   "source": [
    "# Example - 3\n",
    "df = pd.read_csv('demo_dataset.csv')\n",
    "print(df.head())\n",
    "print(df.shape)\n",
    "\n",
    "df = df[0:10000]"
   ]
  },
  {
   "cell_type": "code",
   "execution_count": 34,
   "metadata": {},
   "outputs": [
    {
     "name": "stdout",
     "output_type": "stream",
     "text": [
      "9.971112489700317\n",
      "   Num1  Num2   Num3\n",
      "0   993   900   93.0\n",
      "1   689   575  114.0\n",
      "2   355   968 -613.0\n",
      "3   549   599  -50.0\n",
      "4   245   475 -230.0\n"
     ]
    }
   ],
   "source": [
    "# Demo to check the run time of for loop and apply functions\n",
    "start_time = time.time()\n",
    "for i in range(len(df)):\n",
    "    df.loc[i,'Num3'] = df.loc[i,'Num1'] - df.loc[i,'Num2']\n",
    "end_time = time.time()-start_time\n",
    "print(end_time)\n",
    "print(df.head())"
   ]
  },
  {
   "cell_type": "code",
   "execution_count": 35,
   "metadata": {},
   "outputs": [
    {
     "name": "stdout",
     "output_type": "stream",
     "text": [
      "0.49347829818725586\n",
      "   Num1  Num2   Num3\n",
      "0   993   900   93.0\n",
      "1   689   575  114.0\n",
      "2   355   968 -613.0\n",
      "3   549   599  -50.0\n",
      "4   245   475 -230.0\n"
     ]
    }
   ],
   "source": [
    "start_time = time.time()\n",
    "df['Num3'] = df.apply(lambda x: x['Num1']-x['Num2'],axis = 1)\n",
    "end_time = time.time()-start_time\n",
    "print(end_time)\n",
    "print(df.head())"
   ]
  },
  {
   "cell_type": "code",
   "execution_count": 139,
   "metadata": {},
   "outputs": [
    {
     "name": "stdout",
     "output_type": "stream",
     "text": [
      "  Postcode Variable  Variable Population in Postcode   CA Population\n",
      "0       P1    20-24                                30            436\n",
      "1       P1    25-29                                34            436\n",
      "2       P1    30-34                                44            436\n",
      "3       P2    20-24                                61            436\n",
      "4       P2    25-29                                75            436\n",
      "5       P2    30-34                                30            436\n",
      "6       P3    20-24                                39            436\n",
      "7       P3    25-29                                54            436\n",
      "8       P3    30-34                                69            436\n"
     ]
    }
   ],
   "source": [
    "# Environics Example\n",
    "\n",
    "# Loading Raw Data\n",
    "\n",
    "df = pd.read_csv('en_df.csv')\n",
    "print(df)\n",
    "\n",
    "def calculate_on_group(x):\n",
    "    fill_val = x.tolist()\n",
    "    return pd.Series(np.array(fill_val).sum(), index=x.index)"
   ]
  },
  {
   "cell_type": "code",
   "execution_count": 142,
   "metadata": {},
   "outputs": [
    {
     "data": {
      "text/html": [
       "<div>\n",
       "<style scoped>\n",
       "    .dataframe tbody tr th:only-of-type {\n",
       "        vertical-align: middle;\n",
       "    }\n",
       "\n",
       "    .dataframe tbody tr th {\n",
       "        vertical-align: top;\n",
       "    }\n",
       "\n",
       "    .dataframe thead th {\n",
       "        text-align: right;\n",
       "    }\n",
       "</style>\n",
       "<table border=\"1\" class=\"dataframe\">\n",
       "  <thead>\n",
       "    <tr style=\"text-align: right;\">\n",
       "      <th></th>\n",
       "      <th>Postcode</th>\n",
       "      <th>Variable</th>\n",
       "      <th>Variable Population in Postcode</th>\n",
       "      <th>CA Population</th>\n",
       "      <th>Postcode_Population</th>\n",
       "      <th>Variable_Population_Canada</th>\n",
       "      <th>Postcode_Ratio</th>\n",
       "      <th>CA_Ratio</th>\n",
       "      <th>Index</th>\n",
       "      <th>Rank</th>\n",
       "    </tr>\n",
       "  </thead>\n",
       "  <tbody>\n",
       "    <tr>\n",
       "      <td>0</td>\n",
       "      <td>P1</td>\n",
       "      <td>20-24</td>\n",
       "      <td>30</td>\n",
       "      <td>436</td>\n",
       "      <td>108</td>\n",
       "      <td>130</td>\n",
       "      <td>0.28</td>\n",
       "      <td>0.30</td>\n",
       "      <td>0.93</td>\n",
       "      <td>2.0</td>\n",
       "    </tr>\n",
       "    <tr>\n",
       "      <td>1</td>\n",
       "      <td>P1</td>\n",
       "      <td>25-29</td>\n",
       "      <td>34</td>\n",
       "      <td>436</td>\n",
       "      <td>108</td>\n",
       "      <td>163</td>\n",
       "      <td>0.31</td>\n",
       "      <td>0.37</td>\n",
       "      <td>0.84</td>\n",
       "      <td>3.0</td>\n",
       "    </tr>\n",
       "    <tr>\n",
       "      <td>2</td>\n",
       "      <td>P1</td>\n",
       "      <td>30-34</td>\n",
       "      <td>44</td>\n",
       "      <td>436</td>\n",
       "      <td>108</td>\n",
       "      <td>143</td>\n",
       "      <td>0.41</td>\n",
       "      <td>0.33</td>\n",
       "      <td>1.24</td>\n",
       "      <td>1.0</td>\n",
       "    </tr>\n",
       "    <tr>\n",
       "      <td>3</td>\n",
       "      <td>P2</td>\n",
       "      <td>20-24</td>\n",
       "      <td>61</td>\n",
       "      <td>436</td>\n",
       "      <td>166</td>\n",
       "      <td>130</td>\n",
       "      <td>0.37</td>\n",
       "      <td>0.30</td>\n",
       "      <td>1.23</td>\n",
       "      <td>1.0</td>\n",
       "    </tr>\n",
       "    <tr>\n",
       "      <td>4</td>\n",
       "      <td>P2</td>\n",
       "      <td>25-29</td>\n",
       "      <td>75</td>\n",
       "      <td>436</td>\n",
       "      <td>166</td>\n",
       "      <td>163</td>\n",
       "      <td>0.45</td>\n",
       "      <td>0.37</td>\n",
       "      <td>1.22</td>\n",
       "      <td>2.0</td>\n",
       "    </tr>\n",
       "    <tr>\n",
       "      <td>5</td>\n",
       "      <td>P2</td>\n",
       "      <td>30-34</td>\n",
       "      <td>30</td>\n",
       "      <td>436</td>\n",
       "      <td>166</td>\n",
       "      <td>143</td>\n",
       "      <td>0.18</td>\n",
       "      <td>0.33</td>\n",
       "      <td>0.55</td>\n",
       "      <td>3.0</td>\n",
       "    </tr>\n",
       "    <tr>\n",
       "      <td>6</td>\n",
       "      <td>P3</td>\n",
       "      <td>20-24</td>\n",
       "      <td>39</td>\n",
       "      <td>436</td>\n",
       "      <td>162</td>\n",
       "      <td>130</td>\n",
       "      <td>0.24</td>\n",
       "      <td>0.30</td>\n",
       "      <td>0.80</td>\n",
       "      <td>3.0</td>\n",
       "    </tr>\n",
       "    <tr>\n",
       "      <td>7</td>\n",
       "      <td>P3</td>\n",
       "      <td>25-29</td>\n",
       "      <td>54</td>\n",
       "      <td>436</td>\n",
       "      <td>162</td>\n",
       "      <td>163</td>\n",
       "      <td>0.33</td>\n",
       "      <td>0.37</td>\n",
       "      <td>0.89</td>\n",
       "      <td>2.0</td>\n",
       "    </tr>\n",
       "    <tr>\n",
       "      <td>8</td>\n",
       "      <td>P3</td>\n",
       "      <td>30-34</td>\n",
       "      <td>69</td>\n",
       "      <td>436</td>\n",
       "      <td>162</td>\n",
       "      <td>143</td>\n",
       "      <td>0.43</td>\n",
       "      <td>0.33</td>\n",
       "      <td>1.30</td>\n",
       "      <td>1.0</td>\n",
       "    </tr>\n",
       "  </tbody>\n",
       "</table>\n",
       "</div>"
      ],
      "text/plain": [
       "  Postcode Variable  Variable Population in Postcode   CA Population  \\\n",
       "0       P1    20-24                                30            436   \n",
       "1       P1    25-29                                34            436   \n",
       "2       P1    30-34                                44            436   \n",
       "3       P2    20-24                                61            436   \n",
       "4       P2    25-29                                75            436   \n",
       "5       P2    30-34                                30            436   \n",
       "6       P3    20-24                                39            436   \n",
       "7       P3    25-29                                54            436   \n",
       "8       P3    30-34                                69            436   \n",
       "\n",
       "   Postcode_Population  Variable_Population_Canada  Postcode_Ratio  CA_Ratio  \\\n",
       "0                  108                         130            0.28      0.30   \n",
       "1                  108                         163            0.31      0.37   \n",
       "2                  108                         143            0.41      0.33   \n",
       "3                  166                         130            0.37      0.30   \n",
       "4                  166                         163            0.45      0.37   \n",
       "5                  166                         143            0.18      0.33   \n",
       "6                  162                         130            0.24      0.30   \n",
       "7                  162                         163            0.33      0.37   \n",
       "8                  162                         143            0.43      0.33   \n",
       "\n",
       "   Index  Rank  \n",
       "0   0.93   2.0  \n",
       "1   0.84   3.0  \n",
       "2   1.24   1.0  \n",
       "3   1.23   1.0  \n",
       "4   1.22   2.0  \n",
       "5   0.55   3.0  \n",
       "6   0.80   3.0  \n",
       "7   0.89   2.0  \n",
       "8   1.30   1.0  "
      ]
     },
     "execution_count": 142,
     "metadata": {},
     "output_type": "execute_result"
    }
   ],
   "source": [
    "# Creating Additional Columns required for indexing later\n",
    "df['Postcode_Population'] = df.groupby('Postcode')['Variable Population in Postcode '].apply(lambda x: calculate_on_group(x))\n",
    "df['Variable_Population_Canada'] = df.groupby('Variable')['Variable Population in Postcode '].apply(lambda x: calculate_on_group(x))\n",
    "# Calculating Ratios\n",
    "df['Postcode_Ratio'] = round(df['Variable Population in Postcode ']/df['Postcode_Population'],2)\n",
    "df['CA_Ratio'] = round(df['Variable_Population_Canada']/df['CA Population'],2)\n",
    "df['Index'] = round(df['Postcode_Ratio']/df['CA_Ratio'],2)\n",
    "\n",
    "# Giving Ranking to index \n",
    "df['Rank'] = df.groupby('Postcode')['Index'].rank(method='max',ascending = False)\n",
    "df"
   ]
  },
  {
   "cell_type": "code",
   "execution_count": 144,
   "metadata": {},
   "outputs": [
    {
     "name": "stdout",
     "output_type": "stream",
     "text": [
      "0    30\n",
      "1    34\n",
      "2    44\n",
      "Name: P1, dtype: int64\n",
      "3    61\n",
      "4    75\n",
      "5    30\n",
      "Name: P2, dtype: int64\n",
      "6    39\n",
      "7    54\n",
      "8    69\n",
      "Name: P3, dtype: int64\n"
     ]
    },
    {
     "data": {
      "text/plain": [
       "0    108\n",
       "1    108\n",
       "2    108\n",
       "3    166\n",
       "4    166\n",
       "5    166\n",
       "6    162\n",
       "7    162\n",
       "8    162\n",
       "Name: Variable Population in Postcode , dtype: int32"
      ]
     },
     "execution_count": 144,
     "metadata": {},
     "output_type": "execute_result"
    }
   ],
   "source": [
    "# Everything in lambda is passed as a group(as specified) rather than a single element and then the final results are aggregated\n",
    "def calculate_on_group1(x):\n",
    "    print(x)\n",
    "    fill_val = x.tolist()\n",
    "    return pd.Series(np.array(fill_val).sum(), index=x.index)\n",
    "\n",
    "df.groupby('Postcode')['Variable Population in Postcode '].apply(lambda x: calculate_on_group1(x))"
   ]
  },
  {
   "cell_type": "code",
   "execution_count": 147,
   "metadata": {},
   "outputs": [
    {
     "name": "stdout",
     "output_type": "stream",
     "text": [
      "30\n",
      "34\n",
      "44\n",
      "61\n",
      "75\n",
      "30\n",
      "39\n",
      "54\n",
      "69\n"
     ]
    },
    {
     "data": {
      "text/html": [
       "<div>\n",
       "<style scoped>\n",
       "    .dataframe tbody tr th:only-of-type {\n",
       "        vertical-align: middle;\n",
       "    }\n",
       "\n",
       "    .dataframe tbody tr th {\n",
       "        vertical-align: top;\n",
       "    }\n",
       "\n",
       "    .dataframe thead th {\n",
       "        text-align: right;\n",
       "    }\n",
       "</style>\n",
       "<table border=\"1\" class=\"dataframe\">\n",
       "  <thead>\n",
       "    <tr style=\"text-align: right;\">\n",
       "      <th></th>\n",
       "      <th>0</th>\n",
       "    </tr>\n",
       "  </thead>\n",
       "  <tbody>\n",
       "    <tr>\n",
       "      <td>0</td>\n",
       "      <td>30</td>\n",
       "    </tr>\n",
       "    <tr>\n",
       "      <td>1</td>\n",
       "      <td>34</td>\n",
       "    </tr>\n",
       "    <tr>\n",
       "      <td>2</td>\n",
       "      <td>44</td>\n",
       "    </tr>\n",
       "    <tr>\n",
       "      <td>3</td>\n",
       "      <td>61</td>\n",
       "    </tr>\n",
       "    <tr>\n",
       "      <td>4</td>\n",
       "      <td>75</td>\n",
       "    </tr>\n",
       "    <tr>\n",
       "      <td>5</td>\n",
       "      <td>30</td>\n",
       "    </tr>\n",
       "    <tr>\n",
       "      <td>6</td>\n",
       "      <td>39</td>\n",
       "    </tr>\n",
       "    <tr>\n",
       "      <td>7</td>\n",
       "      <td>54</td>\n",
       "    </tr>\n",
       "    <tr>\n",
       "      <td>8</td>\n",
       "      <td>69</td>\n",
       "    </tr>\n",
       "  </tbody>\n",
       "</table>\n",
       "</div>"
      ],
      "text/plain": [
       "    0\n",
       "0  30\n",
       "1  34\n",
       "2  44\n",
       "3  61\n",
       "4  75\n",
       "5  30\n",
       "6  39\n",
       "7  54\n",
       "8  69"
      ]
     },
     "execution_count": 147,
     "metadata": {},
     "output_type": "execute_result"
    }
   ],
   "source": [
    "# Everything in lambda is passed as a single element and then the final results are aggregated\n",
    "def calculate_on_group2(x):\n",
    "    print(x)\n",
    "    return pd.Series(x)\n",
    "df['Variable Population in Postcode '].apply(lambda x: calculate_on_group2(x))"
   ]
  },
  {
   "cell_type": "code",
   "execution_count": null,
   "metadata": {},
   "outputs": [],
   "source": [
    "#https://www.analyticsvidhya.com/blog/2020/03/what-are-lambda-functions-in-python/#:~:text=We%20can%20use%20the%20apply,gets%20applied%20to%20each%20row\n",
    "#https://towardsdatascience.com/apply-and-lambda-usage-in-pandas-b13a1ea037f7\n",
    "#https://www.journaldev.com/33478/pandas-dataframe-apply-examples\n",
    "#https://towardsdatascience.com/how-to-make-your-pandas-loop-71-803-times-faster-805030df4f06"
   ]
  }
 ],
 "metadata": {
  "kernelspec": {
   "display_name": "Python 3",
   "language": "python",
   "name": "python3"
  },
  "language_info": {
   "codemirror_mode": {
    "name": "ipython",
    "version": 3
   },
   "file_extension": ".py",
   "mimetype": "text/x-python",
   "name": "python",
   "nbconvert_exporter": "python",
   "pygments_lexer": "ipython3",
   "version": "3.8.5"
  }
 },
 "nbformat": 4,
 "nbformat_minor": 2
}
