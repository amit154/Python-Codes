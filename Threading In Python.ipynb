{
 "cells": [
  {
   "cell_type": "markdown",
   "metadata": {},
   "source": [
    "### Agenda\n",
    "\n",
    "1. Unconcurrent Tasks vs Threading vs Parallel Processing\n",
    "2. Types of Processes in a program\n",
    "3. Threading in Python\n",
    "4. Map Functions\n",
    "5. Examples of Threading \n",
    "6. Disadvantages of Threading"
   ]
  },
  {
   "cell_type": "markdown",
   "metadata": {},
   "source": [
    "#### Ways of Processing in a Program\n",
    "1. For Loops -        Sequential \n",
    "2. Threading -        Sequential + Concurrent\n",
    "3. Multi Processing - Concurrent + Parallel"
   ]
  },
  {
   "cell_type": "markdown",
   "metadata": {},
   "source": [
    "#### Types of Processes\n",
    "1. I/O Bound - File Upload and Download, Calling an API/Scraping, Print Operations\n",
    "2. CPU Bound - Mathematical Processing, String Manupulations, Matrix Operations, DataFrame Operations"
   ]
  },
  {
   "cell_type": "code",
   "execution_count": 2,
   "metadata": {},
   "outputs": [],
   "source": [
    "# Loading Important libraries\n",
    "\n",
    "import numpy as np\n",
    "import pandas as pd\n",
    "\n",
    "# libraries to execute threading\n",
    "import concurrent\n",
    "from concurrent.futures import ThreadPoolExecutor\n",
    "import threading\n",
    "\n",
    "# Additional libraries\n",
    "import requests\n",
    "import time\n",
    "from itertools import chain"
   ]
  },
  {
   "cell_type": "markdown",
   "metadata": {},
   "source": [
    "#### Threading in Python\n",
    "\n",
    "##### Lets Print 'Hi', 'Hello' and 'Hey' 3 times each using For Loop and then apply concurrency using Threading"
   ]
  },
  {
   "cell_type": "code",
   "execution_count": 29,
   "metadata": {},
   "outputs": [
    {
     "name": "stdout",
     "output_type": "stream",
     "text": [
      "Hi  \n",
      "Hi  \n",
      "Hi  \n",
      "Hello  \n",
      "Hello  \n",
      "Hello  \n",
      "Hey  \n",
      "Hey  \n",
      "Hey  \n"
     ]
    }
   ],
   "source": [
    "# Using for loop\n",
    "\n",
    "\n",
    "def print_func(string):\n",
    "    for i in range(3):\n",
    "        time.sleep(1)\n",
    "        print(string,\" \")\n",
    "\n",
    "l = ['Hi','Hello','Hey']\n",
    "for s in l:\n",
    "    print_func(s)\n",
    "\n",
    "    \n",
    "        "
   ]
  },
  {
   "cell_type": "code",
   "execution_count": 5,
   "metadata": {},
   "outputs": [
    {
     "name": "stdout",
     "output_type": "stream",
     "text": [
      "Hi\n",
      "ThreadPoolExecutor-2_0\n",
      "Hello\n",
      "ThreadPoolExecutor-2_1\n",
      "Hey\n",
      "ThreadPoolExecutor-2_2\n",
      "Hi\n",
      "ThreadPoolExecutor-2_0\n",
      "Hello\n",
      "ThreadPoolExecutor-2_1\n",
      "Hey\n",
      "ThreadPoolExecutor-2_2\n",
      "HiHello\n",
      "ThreadPoolExecutor-2_0\n",
      "\n",
      "HeyThreadPoolExecutor-2_1\n",
      "ThreadPoolExecutor-2_2\n",
      "\n"
     ]
    }
   ],
   "source": [
    "# Using ThreadPoolExecutor\n",
    "\n",
    "def print_func(string):\n",
    "    for i in range(3):\n",
    "        time.sleep(1)\n",
    "        print(string)\n",
    "        print(threading.current_thread().name)\n",
    "\n",
    "# Using Threading\n",
    "start_time  = time.time()\n",
    "l = ['Hi','Hello','Hey']\n",
    "with ThreadPoolExecutor() as executor:\n",
    "    for i in range(1000):\n",
    "        executor.submit(print_func,l[i])\n",
    "\n",
    "\n",
    "        \n",
    "   \n",
    "\n",
    "        \n",
    "    \n",
    "        \n"
   ]
  },
  {
   "cell_type": "markdown",
   "metadata": {},
   "source": [
    "#### Map Functions in Python\n",
    "\n",
    "##### Create another list with square of original list "
   ]
  },
  {
   "cell_type": "code",
   "execution_count": 32,
   "metadata": {},
   "outputs": [
    {
     "name": "stdout",
     "output_type": "stream",
     "text": [
      "[1, 4, 9]\n",
      "[1, 4, 9]\n"
     ]
    }
   ],
   "source": [
    "l = [1,2,3]\n",
    "\n",
    "#Using For Loops\n",
    "l_sqr = []\n",
    "for num in l:\n",
    "    l_sqr.append(num*num)\n",
    "print(l_sqr)\n",
    "    \n",
    "# Map Function\n",
    "\n",
    "l_sqr = list(map(lambda x: x**2,l))\n",
    "print(l_sqr)\n",
    "    \n",
    "\n",
    "# Map functions are highly optimised for CPU bound operations    "
   ]
  },
  {
   "cell_type": "markdown",
   "metadata": {},
   "source": [
    "#### I/O Bound Use Cases of Threading"
   ]
  },
  {
   "cell_type": "markdown",
   "metadata": {},
   "source": [
    "#### Making an API call/Scraping\n",
    "1. Majority time is spend in waiting for the calls from the servers, CPU does not play any role here\n",
    "2. Only role of CPU is to make a call and collect data and then process it\n",
    "3. So threading can be really effective here to make multiple calls at once\n"
   ]
  },
  {
   "cell_type": "code",
   "execution_count": 33,
   "metadata": {},
   "outputs": [
    {
     "name": "stdout",
     "output_type": "stream",
     "text": [
      "80\n"
     ]
    }
   ],
   "source": [
    "# Create a list of 80 urls that we are going to scrap\n",
    "sites = [\"https://www.jython.org\",\"http://olympus.realpython.org/dice\"] * 40\n",
    "print(len(sites))"
   ]
  },
  {
   "cell_type": "code",
   "execution_count": 36,
   "metadata": {},
   "outputs": [
    {
     "data": {
      "text/plain": [
       "b'<!DOCTYPE html>\\n<html lang=\"en-US\">\\n\\n  <head>\\n    <meta charset=\\'utf-8\\'>\\n    <meta http-equiv=\"X-UA-'"
      ]
     },
     "execution_count": 36,
     "metadata": {},
     "output_type": "execute_result"
    }
   ],
   "source": [
    "# How will the data look like after we make a call\n",
    "requests.get(\"https://www.jython.org\").content[0:100]\n",
    "\n",
    "# Html of the page we requested, can be processed further using beautiful soup library"
   ]
  },
  {
   "cell_type": "markdown",
   "metadata": {},
   "source": [
    "#### Lets Compare time taken by For-Loop, Map and Threading "
   ]
  },
  {
   "cell_type": "code",
   "execution_count": 37,
   "metadata": {},
   "outputs": [
    {
     "name": "stdout",
     "output_type": "stream",
     "text": [
      "40.435543060302734\n"
     ]
    }
   ],
   "source": [
    "# Using For Loop\n",
    "start_time  = time.time()\n",
    "content_list = []\n",
    "for site in sites:\n",
    "    content_list.append(requests.get(site).content)\n",
    "end_time = time.time() - start_time\n",
    "print(end_time)"
   ]
  },
  {
   "cell_type": "code",
   "execution_count": 39,
   "metadata": {},
   "outputs": [
    {
     "name": "stdout",
     "output_type": "stream",
     "text": [
      "40.380831241607666\n"
     ]
    }
   ],
   "source": [
    "# Using Map Function\n",
    "start_time  = time.time()\n",
    "content_list = list(map(lambda x: requests.get(x).content,sites))\n",
    "end_time = time.time() - start_time\n",
    "print(end_time)\n",
    "\n"
   ]
  },
  {
   "cell_type": "code",
   "execution_count": 40,
   "metadata": {},
   "outputs": [
    {
     "name": "stdout",
     "output_type": "stream",
     "text": [
      "10.053593158721924\n"
     ]
    }
   ],
   "source": [
    "# Using Threading\n",
    "start_time  = time.time()\n",
    "def get_request_func(site_list,i):\n",
    "    return list(map(lambda x: requests.get(x).content,site_list))\n",
    "\n",
    "thread = []\n",
    "result = []\n",
    "with ThreadPoolExecutor(max_workers=4) as executor:\n",
    "    for i in range(4):\n",
    "        thread.append(executor.submit(get_request_func,sites[i*20:(i+1)*20],i))\n",
    "    for i in range(4):\n",
    "        result.append(thread[i].result())\n",
    "\n",
    "        \n",
    "content_list =list(chain.from_iterable(result))   \n",
    "end_time = time.time() - start_time\n",
    "print(end_time)\n",
    "        \n",
    "    \n",
    "## thread.result will collect the output returned\n",
    "#Input  - [[list1],[list2],[list3],[list4]] - 20 elements each\n",
    "#Output  - [[list1],[list2],[list3],[list4]] - 20 elements each\n",
    "\n",
    "# using chain.from_iterable\n",
    "# Output = [80 elements] - ID list"
   ]
  },
  {
   "cell_type": "markdown",
   "metadata": {},
   "source": [
    "#### Writing file to Disk\n",
    "1. Interaction with Disk so its I/O Bound\n",
    "2. Threading can really help here"
   ]
  },
  {
   "cell_type": "code",
   "execution_count": 3,
   "metadata": {},
   "outputs": [],
   "source": [
    "df = pd.read_csv('Threading1.csv')"
   ]
  },
  {
   "cell_type": "code",
   "execution_count": 5,
   "metadata": {},
   "outputs": [
    {
     "name": "stdout",
     "output_type": "stream",
     "text": [
      "0.329803466796875\n"
     ]
    }
   ],
   "source": [
    "# Use for loop\n",
    "start_time = time.time()\n",
    "for i in range(50):\n",
    "    df.to_csv('Thread'+str(i)+'.csv')\n",
    "end_time = time.time() - start_time\n",
    "print(end_time)"
   ]
  },
  {
   "cell_type": "code",
   "execution_count": 10,
   "metadata": {},
   "outputs": [
    {
     "name": "stdout",
     "output_type": "stream",
     "text": [
      "0.15187382698059082\n"
     ]
    }
   ],
   "source": [
    "# Use Threading\n",
    "\n",
    "start_time = time.time()\n",
    "def write_file(df,mul):\n",
    "    for i in range(0*mul,25*mul,1):\n",
    "        df.to_csv('Thread'+str(i)+'.csv')\n",
    "\n",
    "with ThreadPoolExecutor(max_workers=2) as executor:\n",
    "    for i in range(2):\n",
    "        executor.submit(write_file,df,i)\n",
    "        \n",
    "print(time.time() - start_time)\n",
    "\n",
    "\n",
    "   \n",
    "\n"
   ]
  },
  {
   "cell_type": "markdown",
   "metadata": {},
   "source": [
    "#### Disadvantages of Threading\n",
    "#### Cases we should not use Threading and Use map functions if possible\n",
    "#### CPU bound Operation, Extensive Processing and Very less or No I/O Operations"
   ]
  },
  {
   "cell_type": "markdown",
   "metadata": {},
   "source": [
    "#### Consider a huge list and lets find the square of that list"
   ]
  },
  {
   "cell_type": "code",
   "execution_count": 21,
   "metadata": {},
   "outputs": [
    {
     "name": "stdout",
     "output_type": "stream",
     "text": [
      "0.2712705135345459\n"
     ]
    }
   ],
   "source": [
    "# List of Numbers\n",
    "numbers = [5_000_000 + x for x in range(1000000)]\n",
    "\n",
    "\n",
    "start_time = time.time()\n",
    "sqr_list = []\n",
    "for x in numbers:\n",
    "    sqr_list.append(x*x)\n",
    "    \n",
    "end_time = time.time() - start_time\n",
    "print(end_time)"
   ]
  },
  {
   "cell_type": "code",
   "execution_count": 22,
   "metadata": {},
   "outputs": [
    {
     "name": "stdout",
     "output_type": "stream",
     "text": [
      "0.02393651008605957\n"
     ]
    }
   ],
   "source": [
    "start_time = time.time()\n",
    "sqr_list = map(lambda x:x*x,numbers)\n",
    "    \n",
    "end_time = time.time() - start_time\n",
    "print(end_time)"
   ]
  },
  {
   "cell_type": "code",
   "execution_count": 27,
   "metadata": {},
   "outputs": [
    {
     "name": "stdout",
     "output_type": "stream",
     "text": [
      "0.268221378326416\n"
     ]
    }
   ],
   "source": [
    "# Using Threading\n",
    "\n",
    "\n",
    "def get_sqr(num):\n",
    "    return list(map(lambda x:x*x,num))\n",
    "\n",
    "list_of_list = []\n",
    "n = int(1000000/4)\n",
    "for i in range(4):\n",
    "    list_of_list.append(numbers[i*n:(i+1)*n])\n",
    "    \n",
    "\n",
    "thread = []\n",
    "result = []\n",
    "start_time  = time.time()\n",
    "with ThreadPoolExecutor(max_workers=4) as executor:\n",
    "    for i in range(4):\n",
    "        thread.append(executor.submit(get_sqr,list_of_list[i]))\n",
    "    for i in range(4):\n",
    "        result.append(thread[i].result())\n",
    "\n",
    "        \n",
    "content_list =list(chain.from_iterable(result))   \n",
    "end_time = time.time() - start_time\n",
    "print(end_time)\n",
    "        \n",
    "    \n",
    "        "
   ]
  },
  {
   "cell_type": "code",
   "execution_count": null,
   "metadata": {},
   "outputs": [],
   "source": [
    "# References and Additonal Readings\n",
    "#https://pymotw.com/3/concurrent.futures/\n",
    "#https://realpython.com/python-concurrency/"
   ]
  },
  {
   "cell_type": "code",
   "execution_count": 6,
   "metadata": {},
   "outputs": [
    {
     "data": {
      "text/plain": [
       "True"
      ]
     },
     "execution_count": 6,
     "metadata": {},
     "output_type": "execute_result"
    }
   ],
   "source": [
    "1.0 + 2.0 == 3.0"
   ]
  },
  {
   "cell_type": "code",
   "execution_count": null,
   "metadata": {},
   "outputs": [],
   "source": []
  }
 ],
 "metadata": {
  "kernelspec": {
   "display_name": "Python 3",
   "language": "python",
   "name": "python3"
  },
  "language_info": {
   "codemirror_mode": {
    "name": "ipython",
    "version": 3
   },
   "file_extension": ".py",
   "mimetype": "text/x-python",
   "name": "python",
   "nbconvert_exporter": "python",
   "pygments_lexer": "ipython3",
   "version": "3.8.5"
  }
 },
 "nbformat": 4,
 "nbformat_minor": 4
}
